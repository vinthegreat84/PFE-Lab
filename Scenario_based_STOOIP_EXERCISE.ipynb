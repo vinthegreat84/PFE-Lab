{
  "nbformat": 4,
  "nbformat_minor": 0,
  "metadata": {
    "colab": {
      "name": "Scenario-based STOOIP EXERCISE.ipynb",
      "provenance": [],
      "collapsed_sections": [],
      "authorship_tag": "ABX9TyMhUpCihecJGDAFEB+yY5wv",
      "include_colab_link": true
    },
    "kernelspec": {
      "name": "python3",
      "display_name": "Python 3"
    },
    "language_info": {
      "name": "python"
    }
  },
  "cells": [
    {
      "cell_type": "markdown",
      "metadata": {
        "id": "view-in-github",
        "colab_type": "text"
      },
      "source": [
        "<a href=\"https://colab.research.google.com/github/vinthegreat84/PFE-Lab/blob/main/Scenario_based_STOOIP_EXERCISE.ipynb\" target=\"_parent\"><img src=\"https://colab.research.google.com/assets/colab-badge.svg\" alt=\"Open In Colab\"/></a>"
      ]
    },
    {
      "cell_type": "markdown",
      "metadata": {
        "id": "7a_LIkR10jQp"
      },
      "source": [
        "## **Scenario-based STOOIP EXERCISE**"
      ]
    },
    {
      "cell_type": "markdown",
      "metadata": {
        "id": "Q_mcJKiz0uyB"
      },
      "source": [
        "Created By: Vinay Babu, Petroleum Engineering (UIE), Chandigarh University, Mohali"
      ]
    },
    {
      "cell_type": "markdown",
      "metadata": {
        "id": "cGM96bkTtq0L"
      },
      "source": [
        "> # **Problem Statement**"
      ]
    },
    {
      "cell_type": "markdown",
      "metadata": {
        "id": "2AxYhCtT0xp-"
      },
      "source": [
        "The following exercise is for calculating Hydrocarbon Volumes in a reservoir\n",
        " as described in *Glover, 2000*.\n",
        "\n",
        "\n",
        "**Glover, P.W.J.**, Petrophysics MSc Course Notes, Department of Geology and Petroleum Geology, University of Aberdeen, UK, i-iii, 2000."
      ]
    },
    {
      "cell_type": "markdown",
      "metadata": {
        "id": "9op4MgR21edC"
      },
      "source": [
        "Note that errors in any of the measurements leads to errors in the final value, and that the porosity and water saturation are in some ways inter-dependent, which can lead to larger error than might otherwise be expected.\n",
        "\n",
        "The error in the area of a reservoir zone is usually quite small because seismic surveys can delineate the extent of reservoirs with great accuracy now. A greater error can be introduced from petrophysical measurements. These values are derived from a small number of wells that intersect the reservoir. There arises, therefore, the possibility that the well information is bit representative of the reservoir as a whole. Clearly, the greater the number of wells, the smaller the possible errors from this source. However, early in the development of a field, when the result of reservoir management decisions can have a large impact upon the reserves and life of a field, the amount of petrophysical data is small, and the resulting errors can be quite large. It is therefore, always important to realize the impact that uncertainty in the knowledge of the petrophysical parameters can have in the final value of STOOIP.\n",
        "\n",
        "**Oil Field Example**\n",
        "\n",
        "Parameter | Value (units)\n",
        "--------|----------\n",
        "Area of zone, A | 2000 acres\n",
        "Thickness, h | 150 ft\n",
        "Porosity, phi | 15%\n",
        "Water saturation, Sw | 30%\n",
        "Oil formation volume factor, Bo | 1.65 (reservoir bbl per stock tank bbl)\n",
        "Oil originally in place, OOIP | 244.377 Mbbl\n",
        "Stock tank oil originally in place, STOOIP | 148.10727 Mbbl\n",
        "\n",
        "Below shows the impact that a 10% variation in the petrophysical parameters can\n",
        "have in the calculation of STOOIP:\n",
        "\n",
        "Parameter | Base Case | Possibility 1 | Possibility 2\n",
        "--------|----------|----------|----------\n",
        "Area of zone, A, acres | 2000 | 2000 | 2000\n",
        "Thickness, h, ft | 150 | 135 | 165\n",
        "Porosity, phi, % | 15 | 13.5 | 16.5\n",
        "Water saturation, Sw, % | 30 | 33 | 27\n",
        "Oil formation volume factor, Bo | 1.65 | 1.815  | 1.485\n",
        "Stock tank oil originally in place, STOOIP, Mbbl | 148 | 104 | 208\n",
        "Percentage relative difference, % | 0 | -30 | +40"
      ]
    },
    {
      "cell_type": "markdown",
      "metadata": {
        "id": "x0gjTtws4bzF"
      },
      "source": [
        "**Problem 1**\n",
        "\n",
        "**Oil Field**\n",
        "\n",
        "Parameter | Value (units)\n",
        "--------|----------\n",
        "Area of zone, A | 4900 acres\n",
        "Thickness, h | 20 ft\n",
        "Porosity, phi | 20%\n",
        "Water saturation, Sw | 15%\n",
        "Oil formation volume factor, Bo | 1.65 (reservoir bbl per stock tank bbl)\n",
        "\n",
        "Give your results in Mbbl. to one place of decimals.\n",
        "1. Calculate the STOOIP.\n",
        "2.  Calculate the two resulting values of STOOIP if there is an error of ±20% in the area of the oil field.\n",
        "3.  Calculate the two resulting values of STOOIP if there is an error of ±20% in the thickness of the formation.\n",
        "4.  Calculate the two resulting values of STOOIP if there is an error of ±20% in the porosity of the formation.\n",
        "5.  Calculate the two resulting values of STOOIP if there is an error of ±20% in the water saturation of the formation.\n",
        "6. Calculate the two resulting values of STOOIP if there is an error of ±20% in the oil formation volume factor for the oil field.\n",
        "7. Summarise the results in the tablulated manner as given in the example."
      ]
    },
    {
      "cell_type": "markdown",
      "metadata": {
        "id": "wqBVZSQD5cBf"
      },
      "source": [
        "**Problem 2**\n",
        "\n",
        "**Gas Field**\n",
        "\n",
        "Parameter | Value (units)\n",
        "--------|----------\n",
        "Area of zone, A | 6400 acres\n",
        "Thickness, h | 30 ft\n",
        "Porosity, phi | 22%\n",
        "Water saturation, Sw | 28%\n",
        "Gas formation volume factor, Bg | 0.0035 (cu.ft./cu.ft.)\n",
        "\n",
        "Give your results in millions of cu.ft. to one place of decimals.\n",
        "1. Calculate the GIP.\n",
        "2. Calculate the STGOIP.\n",
        "3. Calculate the two resulting values of STGOIP if there is an error of ±20% in the area of the gas field.\n",
        "4. Calculate the two resulting values of STGOIP if there is an error of ±20% in the thickness of the formation.\n",
        "5. Calculate the two resulting values of STGOIP if there is an error of ±20% in the porosity of the formation.\n",
        "6. Calculate the two resulting values of STGOIP if there is an error of ±20% in the water saturation of the formation.\n",
        "7. Calculate the two resulting values of STGOIP if there is an error of ±20% in the gas formation volume factor for the oil field.\n",
        "7. Summarise the results in the tablulated manner as given in the example."
      ]
    },
    {
      "cell_type": "markdown",
      "metadata": {
        "id": "-Z-OGFr_9a8r"
      },
      "source": [
        "> ## **Solution**"
      ]
    },
    {
      "cell_type": "markdown",
      "metadata": {
        "id": "rHwPpmnW-Ec4"
      },
      "source": [
        "Calculate the values using the STOOIP/STGOIP calculator below"
      ]
    },
    {
      "cell_type": "code",
      "metadata": {
        "id": "oCA8HiqjkF16"
      },
      "source": [
        "print('Enter the basic information')\n",
        "\n",
        "A    = input(\"Area of oil field (acres) = \")\n",
        "A   = float(A)\n",
        "\n",
        "h    = input(\"Thickness of reservoir formation (m) = \")\n",
        "h   = float(h)\n",
        "\n",
        "phi  = input(\"Porosity of formation (%) = \")\n",
        "phi   = float(phi)\n",
        "\n",
        "Sw   = input(\"Water saturation (%) = \")\n",
        "Sw   = float(Sw)\n",
        "\n",
        "while True:\n",
        "  reservoir = input(\"Select the type of reservoir (1 for oil reservoir / 2 for gas reservoir): \")\n",
        "  reservoir = int(reservoir)\n",
        "\n",
        "  if reservoir == 1:\n",
        "    Bo   = input(\"Oil formation volume factor (bbl./bbl.) = \")\n",
        "    Bo   = float(Bo)\n",
        "    OOIP = 7758 * A * h * phi/100 * (1 - Sw/100)\n",
        "    print ('The amount of oil originally in place (OOIP) = ', round(OOIP, 5), 'bbl.')\n",
        "    print ('The stock tank oil originally in place (STOOIP) = ', round(OOIP/Bo, 5), 'bbl.')\n",
        "    break\n",
        "\n",
        "  elif reservoir == 2:\n",
        "    Bg   = input(\"Gas formation volume factor (bbl./bbl.) = \")\n",
        "    Bg   = float(Bg)\n",
        "    GOIP = 43560 * A * h * phi/100 * (1 - Sw/100)\n",
        "    print ('The amount of gas originally in place (GOIP) = ', round(GOIP, 5), 'cu ft.')\n",
        "    print ('The stock tank gas originally in place (STOOIP) = ', round(GOIP/Bg, 5), 'cu ft.')\n",
        "    break\n",
        "\n",
        "  else:\n",
        "    print ('Invalid selection')\n",
        "    continue"
      ],
      "execution_count": null,
      "outputs": []
    },
    {
      "cell_type": "markdown",
      "metadata": {
        "id": "3Pv3ebGU-aeO"
      },
      "source": [
        "Design the summary tables using the below lines of code"
      ]
    },
    {
      "cell_type": "code",
      "metadata": {
        "colab": {
          "base_uri": "https://localhost:8080/"
        },
        "id": "hDy6PatM7wlV",
        "outputId": "903aa8a4-43dd-4bc2-dbec-895d83f572d6"
      },
      "source": [
        "# importing all the necessary packages \n",
        "import pandas as pd\n",
        "\n",
        "# intialise data of lists (needs to be changed as per the calculated values)\n",
        "STOOIP = {'Parameter': ['Area, acres', 'Thickness, ft', 'Porosity, %', 'Water saturation, %', 'Oil formation volume factor', 'STOOIP, Mbbl', 'Percentage relative difference, %'],\n",
        "          'Base Case': [2000, 150, 15, 30, 1.65, 148, 0],\n",
        "          'Possibility 1': [2000, 135, 13.5, 33, 1.815, 104, -30],\n",
        "          'Possibility 2': [2000, 165, 16.5, 27, 1.485, 208, +40]}\n",
        "\n",
        "STGOIP = {'Parameter': ['Area, acres', 'Thickness, ft', 'Porosity, %', 'Water saturation, %', 'Gas formation volume factor', 'STGOIP, Mcu.ft.', 'Percentage relative difference, %'],\n",
        "          'Base Case': [2000, 150, 15, 30, 1.65, 148, 0],\n",
        "          'Possibility 1': [2000, 135, 13.5, 33, 1.815, 104, -30],\n",
        "          'Possibility 2': [2000, 165, 16.5, 27, 1.485, 208, +40]}\n",
        "\n",
        "\n",
        "# Create DataFrame\n",
        "STOOIP = pd.DataFrame(STOOIP)\n",
        "STGOIP = pd.DataFrame(STGOIP)\n",
        "\n",
        "# Print the output\n",
        "print(STOOIP)\n",
        "\n",
        "print('\\n')\n",
        "\n",
        "print(STGOIP)"
      ],
      "execution_count": 12,
      "outputs": [
        {
          "output_type": "stream",
          "text": [
            "                           Parameter  Base Case  Possibility 1  Possibility 2\n",
            "0                        Area, acres    2000.00       2000.000       2000.000\n",
            "1                      Thickness, ft     150.00        135.000        165.000\n",
            "2                        Porosity, %      15.00         13.500         16.500\n",
            "3                Water saturation, %      30.00         33.000         27.000\n",
            "4        Oil formation volume factor       1.65          1.815          1.485\n",
            "5                       STOOIP, Mbbl     148.00        104.000        208.000\n",
            "6  Percentage relative difference, %       0.00        -30.000         40.000\n",
            "\n",
            "\n",
            "                           Parameter  Base Case  Possibility 1  Possibility 2\n",
            "0                        Area, acres    2000.00       2000.000       2000.000\n",
            "1                      Thickness, ft     150.00        135.000        165.000\n",
            "2                        Porosity, %      15.00         13.500         16.500\n",
            "3                Water saturation, %      30.00         33.000         27.000\n",
            "4        Gas formation volume factor       1.65          1.815          1.485\n",
            "5                    STGOIP, Mcu.ft.     148.00        104.000        208.000\n",
            "6  Percentage relative difference, %       0.00        -30.000         40.000\n"
          ],
          "name": "stdout"
        }
      ]
    },
    {
      "cell_type": "code",
      "metadata": {
        "colab": {
          "base_uri": "https://localhost:8080/",
          "height": 17
        },
        "id": "tVz5BCJQB2J5",
        "outputId": "32e00bc1-21ae-4026-ecba-30c87474a0ed"
      },
      "source": [
        "# Run the code to export the data file to the file hierarchy and to your local machine\n",
        "\n",
        "from google.colab import files\n",
        "\n",
        "STOOIP.to_csv('STOOIP.csv', index = False, float_format='%.2f')\n",
        "STGOIP.to_csv('STGOIP.csv', index = False, float_format='%.2f')\n",
        "\n",
        "# Refresh the file hierarchy if not visible\n",
        "\n",
        "files.download('STOOIP.csv')\n",
        "files.download('STGOIP.csv')"
      ],
      "execution_count": 13,
      "outputs": [
        {
          "output_type": "display_data",
          "data": {
            "application/javascript": [
              "\n",
              "    async function download(id, filename, size) {\n",
              "      if (!google.colab.kernel.accessAllowed) {\n",
              "        return;\n",
              "      }\n",
              "      const div = document.createElement('div');\n",
              "      const label = document.createElement('label');\n",
              "      label.textContent = `Downloading \"${filename}\": `;\n",
              "      div.appendChild(label);\n",
              "      const progress = document.createElement('progress');\n",
              "      progress.max = size;\n",
              "      div.appendChild(progress);\n",
              "      document.body.appendChild(div);\n",
              "\n",
              "      const buffers = [];\n",
              "      let downloaded = 0;\n",
              "\n",
              "      const channel = await google.colab.kernel.comms.open(id);\n",
              "      // Send a message to notify the kernel that we're ready.\n",
              "      channel.send({})\n",
              "\n",
              "      for await (const message of channel.messages) {\n",
              "        // Send a message to notify the kernel that we're ready.\n",
              "        channel.send({})\n",
              "        if (message.buffers) {\n",
              "          for (const buffer of message.buffers) {\n",
              "            buffers.push(buffer);\n",
              "            downloaded += buffer.byteLength;\n",
              "            progress.value = downloaded;\n",
              "          }\n",
              "        }\n",
              "      }\n",
              "      const blob = new Blob(buffers, {type: 'application/binary'});\n",
              "      const a = document.createElement('a');\n",
              "      a.href = window.URL.createObjectURL(blob);\n",
              "      a.download = filename;\n",
              "      div.appendChild(a);\n",
              "      a.click();\n",
              "      div.remove();\n",
              "    }\n",
              "  "
            ],
            "text/plain": [
              "<IPython.core.display.Javascript object>"
            ]
          },
          "metadata": {
            "tags": []
          }
        },
        {
          "output_type": "display_data",
          "data": {
            "application/javascript": [
              "download(\"download_c8e1efca-e3e4-45cf-8c7e-1401bc625e93\", \"STOOIP.csv\", 328)"
            ],
            "text/plain": [
              "<IPython.core.display.Javascript object>"
            ]
          },
          "metadata": {
            "tags": []
          }
        },
        {
          "output_type": "display_data",
          "data": {
            "application/javascript": [
              "\n",
              "    async function download(id, filename, size) {\n",
              "      if (!google.colab.kernel.accessAllowed) {\n",
              "        return;\n",
              "      }\n",
              "      const div = document.createElement('div');\n",
              "      const label = document.createElement('label');\n",
              "      label.textContent = `Downloading \"${filename}\": `;\n",
              "      div.appendChild(label);\n",
              "      const progress = document.createElement('progress');\n",
              "      progress.max = size;\n",
              "      div.appendChild(progress);\n",
              "      document.body.appendChild(div);\n",
              "\n",
              "      const buffers = [];\n",
              "      let downloaded = 0;\n",
              "\n",
              "      const channel = await google.colab.kernel.comms.open(id);\n",
              "      // Send a message to notify the kernel that we're ready.\n",
              "      channel.send({})\n",
              "\n",
              "      for await (const message of channel.messages) {\n",
              "        // Send a message to notify the kernel that we're ready.\n",
              "        channel.send({})\n",
              "        if (message.buffers) {\n",
              "          for (const buffer of message.buffers) {\n",
              "            buffers.push(buffer);\n",
              "            downloaded += buffer.byteLength;\n",
              "            progress.value = downloaded;\n",
              "          }\n",
              "        }\n",
              "      }\n",
              "      const blob = new Blob(buffers, {type: 'application/binary'});\n",
              "      const a = document.createElement('a');\n",
              "      a.href = window.URL.createObjectURL(blob);\n",
              "      a.download = filename;\n",
              "      div.appendChild(a);\n",
              "      a.click();\n",
              "      div.remove();\n",
              "    }\n",
              "  "
            ],
            "text/plain": [
              "<IPython.core.display.Javascript object>"
            ]
          },
          "metadata": {
            "tags": []
          }
        },
        {
          "output_type": "display_data",
          "data": {
            "application/javascript": [
              "download(\"download_c3944e09-1e82-492f-9a95-9e0ec7cf243b\", \"STGOIP.csv\", 331)"
            ],
            "text/plain": [
              "<IPython.core.display.Javascript object>"
            ]
          },
          "metadata": {
            "tags": []
          }
        }
      ]
    }
  ]
}