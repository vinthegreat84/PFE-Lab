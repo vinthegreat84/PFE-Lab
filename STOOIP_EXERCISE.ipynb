{
  "nbformat": 4,
  "nbformat_minor": 0,
  "metadata": {
    "colab": {
      "name": "STOOIP EXERCISE.ipynb",
      "provenance": [],
      "collapsed_sections": [],
      "authorship_tag": "ABX9TyM4yJhz1WFJZwnk9oZ5xRvk",
      "include_colab_link": true
    },
    "kernelspec": {
      "name": "python3",
      "display_name": "Python 3"
    },
    "language_info": {
      "name": "python"
    }
  },
  "cells": [
    {
      "cell_type": "markdown",
      "metadata": {
        "id": "view-in-github",
        "colab_type": "text"
      },
      "source": [
        "<a href=\"https://colab.research.google.com/github/vinthegreat84/PFE-Lab/blob/main/STOOIP_EXERCISE.ipynb\" target=\"_parent\"><img src=\"https://colab.research.google.com/assets/colab-badge.svg\" alt=\"Open In Colab\"/></a>"
      ]
    },
    {
      "cell_type": "markdown",
      "metadata": {
        "id": "7a_LIkR10jQp"
      },
      "source": [
        "## **STOOIP EXERCISE**"
      ]
    },
    {
      "cell_type": "markdown",
      "metadata": {
        "id": "Q_mcJKiz0uyB"
      },
      "source": [
        "Created By: Vinay Babu, Petroleum Engineering (UIE), Chandigarh University, Mohali"
      ]
    },
    {
      "cell_type": "markdown",
      "metadata": {
        "id": "cGM96bkTtq0L"
      },
      "source": [
        "> # **Problem Statement**"
      ]
    },
    {
      "cell_type": "markdown",
      "metadata": {
        "id": "2AxYhCtT0xp-"
      },
      "source": [
        "The following exercise is for calculating Hydrocarbon Volumes in a reservoir\n",
        " as described in *Glover, 2000*.\n",
        "\n",
        "\n",
        "**Glover, P.W.J.**, Petrophysics MSc Course Notes, Department of Geology and Petroleum Geology, University of Aberdeen, UK, 4-6, 2000."
      ]
    },
    {
      "cell_type": "markdown",
      "metadata": {
        "id": "9op4MgR21edC"
      },
      "source": [
        "**Oil Field Example**\n",
        "\n",
        "Parameter | Value (units)\n",
        "--------|----------\n",
        "Area of zone, A | 2000 acres\n",
        "Thickness, h | 150 ft\n",
        "Porosity, phi | 15%\n",
        "Water saturation, Sw | 30%\n",
        "Oil formation volume factor, Bo | 1.65 (reservoir bbl per stock tank bbl)\n",
        "Oil originally in place, OOIP | 244.377 Mbbl\n",
        "Stock tank oil originally in place, STOOIP | 148.10727 Mbbl\n",
        "\n",
        "**Gas Field Example**\n",
        "\n",
        "Parameter | Value (units)\n",
        "--------|----------\n",
        "Area of zone, A | 2000 acres\n",
        "Thickness, h | 150 ft\n",
        "Porosity, phi | 15%\n",
        "Water saturation, Sw | 30%\n",
        "Gas formation volume factor, Bg | 0.0035 (reservoir cu.ft per stock tank cu.ft)\n",
        "Gas initially in place, GOIP | 1.372 billion cu.ft\n",
        "Stock tank gas originally in place, STGOIP | 392.04 billion cu. ft"
      ]
    },
    {
      "cell_type": "markdown",
      "metadata": {
        "id": "-Z-OGFr_9a8r"
      },
      "source": [
        "> ## **Solution**"
      ]
    },
    {
      "cell_type": "code",
      "metadata": {
        "id": "oCA8HiqjkF16"
      },
      "source": [
        "print('Enter the basic information')\n",
        "\n",
        "A    = input(\"Area of oil field (acres) = \")\n",
        "A   = float(A)\n",
        "\n",
        "h    = input(\"Thickness of reservoir formation (m) = \")\n",
        "h   = float(h)\n",
        "\n",
        "phi  = input(\"Porosity of formation (%) = \")\n",
        "phi   = float(phi)\n",
        "\n",
        "Sw   = input(\"Water saturation (%) = \")\n",
        "Sw   = float(Sw)\n",
        "\n",
        "while True:\n",
        "  reservoir = input(\"Select the type of reservoir (1 for oil reservoir / 2 for gas reservoir): \")\n",
        "  reservoir = int(reservoir)\n",
        "\n",
        "  if reservoir == 1:\n",
        "    Bo   = input(\"Oil formation volume factor (bbl./bbl.) = \")\n",
        "    Bo   = float(Bo)\n",
        "    OOIP = 7758 * A * h * phi/100 * (1 - Sw/100)\n",
        "    print ('The amount of oil originally in place (OOIP) = ', round(OOIP, 5), 'bbl.')\n",
        "    print ('The stock tank oil originally in place (STOOIP) = ', round(OOIP/Bo, 5), 'bbl.')\n",
        "    break\n",
        "\n",
        "  elif reservoir == 2:\n",
        "    Bg   = input(\"Gas formation volume factor (bbl./bbl.) = \")\n",
        "    Bg   = float(Bg)\n",
        "    GOIP = 43560 * A * h * phi/100 * (1 - Sw/100)\n",
        "    print ('The amount of gas originally in place (GOIP) = ', round(GOIP, 5), 'cu ft.')\n",
        "    print ('The stock tank gas originally in place (STOOIP) = ', round(GOIP/Bg, 5), 'cu ft.')\n",
        "    break\n",
        "\n",
        "  else:\n",
        "    print ('Invalid selection')\n",
        "    continue"
      ],
      "execution_count": null,
      "outputs": []
    }
  ]
}