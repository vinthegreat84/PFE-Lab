{
  "nbformat": 4,
  "nbformat_minor": 0,
  "metadata": {
    "colab": {
      "name": "TEMPERATURE EXERCISE.ipynb",
      "provenance": [],
      "collapsed_sections": [],
      "authorship_tag": "ABX9TyNABihfTNXfCn0yrlIxDCyv",
      "include_colab_link": true
    },
    "kernelspec": {
      "name": "python3",
      "display_name": "Python 3"
    },
    "language_info": {
      "name": "python"
    }
  },
  "cells": [
    {
      "cell_type": "markdown",
      "metadata": {
        "id": "view-in-github",
        "colab_type": "text"
      },
      "source": [
        "<a href=\"https://colab.research.google.com/github/vinthegreat84/PFE-Lab/blob/main/TEMPERATURE_EXERCISE.ipynb\" target=\"_parent\"><img src=\"https://colab.research.google.com/assets/colab-badge.svg\" alt=\"Open In Colab\"/></a>"
      ]
    },
    {
      "cell_type": "markdown",
      "metadata": {
        "id": "7a_LIkR10jQp"
      },
      "source": [
        "## **TEMPERATURE EXERCISE**"
      ]
    },
    {
      "cell_type": "markdown",
      "metadata": {
        "id": "Q_mcJKiz0uyB"
      },
      "source": [
        "Created By: Vinay Babu, Petroleum Engineering (UIE), Chandigarh University, Mohali"
      ]
    },
    {
      "cell_type": "markdown",
      "metadata": {
        "id": "cGM96bkTtq0L"
      },
      "source": [
        "> # **Problem Statement**"
      ]
    },
    {
      "cell_type": "markdown",
      "metadata": {
        "id": "2AxYhCtT0xp-"
      },
      "source": [
        "The following exercise illustrates Borehole Temperature Corrections as described in *Glover, 2000*.\n",
        "\n",
        "\n",
        "**Glover, P.W.J.**, Petrophysics MSc Course Notes, Department of Geology and Petroleum Geology, University of Aberdeen, UK, 86-87, 2000."
      ]
    },
    {
      "cell_type": "markdown",
      "metadata": {
        "id": "9op4MgR21edC"
      },
      "source": [
        "This exercises uses data from the Elysian Field.\n",
        "\n",
        "**Well:** 24-1X\n",
        "\n",
        "**Depth Range:** 2900 – 3300 m\n",
        "\n",
        "**Lithology**: Variable\n",
        "\n",
        "Several logs have been run in well 24-1X of the Elysian Field between depths of 2900 m and 3300 m (the bottom of the borehole).\n",
        "\n",
        "The following data were collected:\n",
        "\n",
        "Process | Depth (m)| Temp.(°F) | Time & Date | T (hours) | (t+T)/T \n",
        "--------|----------|----------|----------|----------|----------\n",
        "Drilling Stopped | 3300 | - | 22:00/15th | -  | - \n",
        "Mud Circulation Stopped | - | - | 04:00/16th | - | - \n",
        "DIL log | 3300 | 241 | 12:25/16th \n",
        "FDC log | 3300 | 257 | 15:00/16th\n",
        "SNP log | 3300 | 266 | 17:30/16th\n",
        "Dipmeter | 3300 | 273 | 20:30/16th"
      ]
    },
    {
      "cell_type": "markdown",
      "metadata": {
        "id": "uItBQzOz71Pu"
      },
      "source": [
        "1.   Calculate the mud circulation time, t, in hours.\n",
        "2.   Calculate the recovery time, T (hours), for each logging run and fill in last but one column.\n",
        "*Note: remember to use decimal time in hours.*\n",
        "3. Calculate (t+T)/T, and fill in the table.\n",
        "4. Make a Horner plot of temperature on the y-axis (linear, 230 to 310°F) against (t + T)/T on the x-axis (linear 1.0 to 2.0).\n",
        "5. What is the true formation temperature at 3300 m in °F and in °C? (Note that to convert °F to °C subtract 32, divide the result by 9, and then multiply by 5.)\n",
        "6. Given that the mean annual temperature of the sea-floor is 10°C and that the sea-floor is 300 m below the logging depth measurement point, calculate the mean temperature gradient in the well in °C/m and in °F/m.\n",
        "7. What is the temperature in °F and in °C at 3100 m?\n",
        "\n"
      ]
    },
    {
      "cell_type": "markdown",
      "metadata": {
        "id": "-Z-OGFr_9a8r"
      },
      "source": [
        "> ## **Solution**"
      ]
    },
    {
      "cell_type": "markdown",
      "metadata": {
        "id": "Zl1LUSpm9ytS"
      },
      "source": [
        "1. The mud circulation time, t = 6 hours (from 22:00/15th to 04:00/16th)."
      ]
    },
    {
      "cell_type": "code",
      "metadata": {
        "id": "BbzMVcE0cUDq"
      },
      "source": [
        "# creating variable t for the mud circulation time\n",
        "t = 6"
      ],
      "execution_count": null,
      "outputs": []
    },
    {
      "cell_type": "code",
      "metadata": {
        "id": "go2kIgab_FHv"
      },
      "source": [
        "# importing all the necessary packages \n",
        "import pandas as pd\n",
        "import numpy as np\n",
        "import matplotlib.pyplot as plt\n",
        "plt.style.use('seaborn-darkgrid')\n",
        "import seaborn as sns \n",
        "import plotly.express as px\n",
        "import plotly.graph_objects as go\n",
        "from plotly.subplots import make_subplots\n",
        "import plotnine\n",
        "\n",
        "!pip install scikit-learn\n",
        "\n",
        "# Scientific libraries\n",
        "from numpy import arange,array,ones\n",
        "from scipy import stats\n",
        "\n",
        "!pip install dfply\n",
        "import dfply\n",
        "from dfply import *\n",
        "\n",
        "from plotnine import ggplot, aes\n",
        "\n",
        "# package for plot scales\n",
        "from mizani.formatters import comma_format\n",
        "\n",
        "import ipywidgets\n",
        "\n",
        "import warnings\n",
        "warnings.filterwarnings('ignore') \n",
        "\n",
        "from IPython.display import display"
      ],
      "execution_count": null,
      "outputs": []
    },
    {
      "cell_type": "code",
      "metadata": {
        "id": "brPJcAPuNTU4"
      },
      "source": [
        "# intialise data of lists.\n",
        "data = {'Process':['DIL log', 'FDC log', 'SNP log', 'Dipmeter'],\n",
        "        'Depth_(m)':[3300, 3300, 3300, 3300],\n",
        "        'Temp._°F': [241, 257, 266, 273],\n",
        "        'T_(hours)': [8.25, 11.0, 13.5, 16.5]}\n",
        " \n",
        "# Create DataFrame\n",
        "df = pd.DataFrame(data)"
      ],
      "execution_count": null,
      "outputs": []
    },
    {
      "cell_type": "code",
      "metadata": {
        "id": "EAGK-dLmCX4w"
      },
      "source": [
        "df['(t+T)/T'] = (t + df['T_(hours)']) / df['T_(hours)']\n",
        "df"
      ],
      "execution_count": null,
      "outputs": []
    },
    {
      "cell_type": "markdown",
      "metadata": {
        "id": "jaYw5ktU93Ni"
      },
      "source": [
        "2. The recovery time, T (hours), is shown in the table."
      ]
    },
    {
      "cell_type": "markdown",
      "metadata": {
        "id": "b4p3GrG6_JUh"
      },
      "source": [
        " 3. (t+T)/T is shown in the table."
      ]
    },
    {
      "cell_type": "code",
      "metadata": {
        "id": "XZ0xMhrwVp5A"
      },
      "source": [
        "# Fitting dataframe into linear regression\n",
        "\n",
        "from sklearn.linear_model import LinearRegression\n",
        "\n",
        "model = LinearRegression()\n",
        "\n",
        "x = df.loc[:, df.columns == '(t+T)/T']\n",
        "y = df.loc[:, df.columns == 'Temp._°F']\n",
        "\n",
        "model.fit(x,y)\n",
        "model.predict(x)\n",
        "\n",
        "plt.scatter(x, y,  color='black')\n",
        "plt.plot(x, model.predict(x), color='blue', linewidth=3)\n",
        "plt.xlim([1, 2])\n",
        "plt.ylim([230, 310])\n",
        "plt.xlabel('(t+T)/T')\n",
        "plt.ylabel('Temperature (°F)')\n",
        "plt.show()"
      ],
      "execution_count": null,
      "outputs": []
    },
    {
      "cell_type": "markdown",
      "metadata": {
        "id": "vZbGqu28EwhW"
      },
      "source": [
        "4. See Graph"
      ]
    },
    {
      "cell_type": "code",
      "metadata": {
        "id": "HYT_erQ6djCw"
      },
      "source": [
        "print('intercept:', model.intercept_)"
      ],
      "execution_count": null,
      "outputs": []
    },
    {
      "cell_type": "code",
      "metadata": {
        "id": "zPMg3x1GdSfA"
      },
      "source": [
        "print('slope:', model.coef_)"
      ],
      "execution_count": null,
      "outputs": []
    },
    {
      "cell_type": "markdown",
      "metadata": {
        "id": "ApjqcryIwKeO"
      },
      "source": [
        "# Temperature Conversion"
      ]
    },
    {
      "cell_type": "code",
      "metadata": {
        "id": "B3dbzQ_Uud7h"
      },
      "source": [
        "# function for temperature conversion: °C to °F\n",
        "def c_to_f(x):\n",
        "  x = 9/5*x + 32\n",
        "  return x\n",
        "\n",
        "# function for temperature conversion: °F to °C\n",
        "def f_to_c(x):\n",
        "  x = 5/9* (x - 32)\n",
        "  return x"
      ],
      "execution_count": null,
      "outputs": []
    },
    {
      "cell_type": "code",
      "metadata": {
        "id": "Ki5aKX4wu7BD"
      },
      "source": [
        "# setting T/(t+T)=1\n",
        "x = 1\n",
        "\n",
        "formation_depth_m = 3300 # The formation depth at 3300 m\n",
        "\n",
        "# y_pred (Temperature (°F)) at x (T/(t+T)) = 1\n",
        "formation_temperature_F = model.coef_ * x + model.intercept_\n",
        "formation_temperature_C = f_to_c(formation_temperature_F)\n",
        "\n",
        "# array to scalar conversion\n",
        "formation_temperature_F = np.asscalar(formation_temperature_F)\n",
        "formation_temperature_C = np.asscalar(formation_temperature_C)\n",
        "\n",
        "print('5. The true formation temperature at', formation_depth_m, 'm is', round(formation_temperature_F, 5), '°F', 'or', \n",
        "      round(formation_temperature_C, 5), '°C')"
      ],
      "execution_count": null,
      "outputs": []
    },
    {
      "cell_type": "code",
      "metadata": {
        "id": "yYfpaJstj7sW"
      },
      "source": [
        "sf_temp_C = 10 # The mean annual temperature of the sea-floor is 10°C\n",
        "sf_depth_m = 300 # The sea-floor is 300 m below the logging depth measurement point\n",
        "\n",
        "\n",
        "sf_temp_F = c_to_f(sf_temp_C)\n",
        "\n",
        "\n",
        "mean_temperature_gradient_C = (formation_temperature_C - sf_temp_C) / (formation_depth_m - sf_depth_m) # in °C/m\n",
        "\n",
        "mean_temperature_gradient_F = (formation_temperature_F - sf_temp_F) / (formation_depth_m - sf_depth_m) # in °F/m\n",
        "\n",
        "\n",
        "print('6. The mean temperature gradient in the well is', round(mean_temperature_gradient_C, 5), '°C/m', 'or', round(mean_temperature_gradient_F, 5), '°F/m')"
      ],
      "execution_count": null,
      "outputs": []
    },
    {
      "cell_type": "code",
      "metadata": {
        "id": "YK4hpCGLtzM6"
      },
      "source": [
        "depth = 3100 # The depth at which temperature is to be calculated\n",
        "\n",
        "T_3100_C = mean_temperature_gradient_C * depth # in °C\n",
        "\n",
        "T_3100_F = c_to_f(T_3100_C) # in °F\n",
        "\n",
        "\n",
        "print('7. The temperature at', depth, 'm is', round(T_3100_C, 5), '°C', 'or', round(T_3100_F, 5), '°F')"
      ],
      "execution_count": null,
      "outputs": []
    }
  ]
}